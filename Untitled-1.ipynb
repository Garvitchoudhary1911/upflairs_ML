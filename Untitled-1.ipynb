{
 "cells": [
  {
   "cell_type": "code",
   "execution_count": null,
   "metadata": {},
   "outputs": [],
   "source": [
    "#str:\n",
    "#list:append,sort,count,copy,insert,remove,\n",
    "#tuple: count,index\n",
    "#dict:key,values,update,get,pop\n",
    "#set:add,difference,union, pop,remove\n"
   ]
  },
  {
   "cell_type": "code",
   "execution_count": null,
   "metadata": {},
   "outputs": [],
   "source": [
    "# 1. No input and no output args\n",
    "# 2.Input arg but not output args\n",
    "#3. no input but output args are there\n",
    "#4. both are there\n",
    "\n",
    "#a. in-place(self update)\n",
    "#b. non in-place"
   ]
  },
  {
   "cell_type": "code",
   "execution_count": null,
   "metadata": {},
   "outputs": [],
   "source": [
    "# Deep copy vs shallow copy"
   ]
  },
  {
   "cell_type": "code",
   "execution_count": 18,
   "metadata": {},
   "outputs": [],
   "source": [
    "a=34\n",
    "b=34.5\n",
    "c=34+5j\n",
    "d='hello'\n",
    "e=[3,4,5]\n",
    "f=(3,4,5)\n",
    "g={3: [4,5]}\n",
    "h={3,4,5}"
   ]
  },
  {
   "cell_type": "code",
   "execution_count": 3,
   "metadata": {},
   "outputs": [
    {
     "ename": "NameError",
     "evalue": "name 'd' is not defined",
     "output_type": "error",
     "traceback": [
      "\u001b[1;31m---------------------------------------------------------------------------\u001b[0m",
      "\u001b[1;31mNameError\u001b[0m                                 Traceback (most recent call last)",
      "Cell \u001b[1;32mIn[3], line 4\u001b[0m\n\u001b[0;32m      2\u001b[0m \u001b[39m'\u001b[39m\u001b[39m#\u001b[39m\u001b[39m'\u001b[39m\u001b[39m.\u001b[39mjoin(\u001b[39m'\u001b[39m\u001b[39mhi this is a neew string\u001b[39m\u001b[39m'\u001b[39m\u001b[39m.\u001b[39msplit())\n\u001b[0;32m      3\u001b[0m \u001b[39m'\u001b[39m\u001b[39mhi this is a new string\u001b[39m\u001b[39m'\u001b[39m\u001b[39m.\u001b[39mreplace(\u001b[39m'\u001b[39m\u001b[39m'\u001b[39m,\u001b[39m'\u001b[39m\u001b[39m#\u001b[39m\u001b[39m'\u001b[39m)\n\u001b[1;32m----> 4\u001b[0m d\u001b[39m.\u001b[39mcount(\u001b[39m'\u001b[39m\u001b[39ml\u001b[39m\u001b[39m'\u001b[39m)\n",
      "\u001b[1;31mNameError\u001b[0m: name 'd' is not defined"
     ]
    }
   ],
   "source": [
    "'-'.join('wars')\n",
    "'#'.join('hi this is a neew string'.split())\n",
    "'hi this is a new string'.replace('','#')\n",
    "d.count('l')"
   ]
  },
  {
   "cell_type": "code",
   "execution_count": 7,
   "metadata": {},
   "outputs": [
    {
     "data": {
      "text/plain": [
       "'ek aisa data jo 20 to 30 hai lekin 20 hi kaafi hai'"
      ]
     },
     "execution_count": 7,
     "metadata": {},
     "output_type": "execute_result"
    }
   ],
   "source": [
    "## String formatting\n",
    "x=20\n",
    "y=30\n",
    "# z ='ek aisa data jo 20 to 30 hai'\n",
    "#(format specifiers)\n",
    "z='ek aisa data jo %d to %d hai'%(x,y)\n",
    "z1='ek aisa data jo %d to %d hai lekin %d hi ka'\n",
    "#using format function\n",
    "z='ek aisa data jo {} to {} hai'\n",
    "z=z.format(x,y)\n",
    "#z='ek aisa data jo {} to {} hai'.format(x,y)\n",
    "#ek aisa data jo 20 to 30 hai lekin 20 hi kaafi hai\n",
    "z1='ek aisa data jo {0} to {1} hai lekin {0} hi kaafi hai'\n",
    "z1=z1.format(x,y)\n",
    "#using f-sting\n",
    "f'anything'\n",
    "zf=f'ek aisa data jo {x} to {y} hai lekin {x} hi kaafi hai'\n",
    "zf"
   ]
  },
  {
   "cell_type": "code",
   "execution_count": 8,
   "metadata": {},
   "outputs": [
    {
     "ename": "NameError",
     "evalue": "name 'e' is not defined",
     "output_type": "error",
     "traceback": [
      "\u001b[1;31m---------------------------------------------------------------------------\u001b[0m",
      "\u001b[1;31mNameError\u001b[0m                                 Traceback (most recent call last)",
      "Cell \u001b[1;32mIn[8], line 1\u001b[0m\n\u001b[1;32m----> 1\u001b[0m e\u001b[39m.\u001b[39mappend(\u001b[39m'\u001b[39m\u001b[39msomedata\u001b[39m\u001b[39m'\u001b[39m)\n",
      "\u001b[1;31mNameError\u001b[0m: name 'e' is not defined"
     ]
    }
   ],
   "source": [
    "e.append('somedata')"
   ]
  },
  {
   "cell_type": "code",
   "execution_count": 9,
   "metadata": {},
   "outputs": [],
   "source": [
    "e=[2,38,4,56,7.6]"
   ]
  },
  {
   "cell_type": "code",
   "execution_count": 11,
   "metadata": {},
   "outputs": [
    {
     "data": {
      "text/plain": [
       "[2, 4, 7.6, 38, 56]"
      ]
     },
     "execution_count": 11,
     "metadata": {},
     "output_type": "execute_result"
    }
   ],
   "source": [
    "e.sort()\n",
    "e"
   ]
  },
  {
   "cell_type": "code",
   "execution_count": 12,
   "metadata": {},
   "outputs": [],
   "source": [
    "e1=['hi','wow','good','hey','yes','awesome']"
   ]
  },
  {
   "cell_type": "code",
   "execution_count": 13,
   "metadata": {},
   "outputs": [
    {
     "data": {
      "text/plain": [
       "['awesome', 'good', 'wow', 'hey', 'yes', 'hi']"
      ]
     },
     "execution_count": 13,
     "metadata": {},
     "output_type": "execute_result"
    }
   ],
   "source": [
    "e1.sort(key=len,reverse = True)\n",
    "e1"
   ]
  },
  {
   "cell_type": "code",
   "execution_count": null,
   "metadata": {},
   "outputs": [],
   "source": [
    "f1=list(f)\n",
    "f1.sort(reverse = True)\n",
    "f1="
   ]
  },
  {
   "cell_type": "code",
   "execution_count": 14,
   "metadata": {},
   "outputs": [
    {
     "data": {
      "text/plain": [
       "56"
      ]
     },
     "execution_count": 14,
     "metadata": {},
     "output_type": "execute_result"
    }
   ],
   "source": [
    "k=e.pop()\n",
    "k"
   ]
  },
  {
   "cell_type": "code",
   "execution_count": 15,
   "metadata": {},
   "outputs": [
    {
     "data": {
      "text/plain": [
       "[2, 4, 7.6, 38]"
      ]
     },
     "execution_count": 15,
     "metadata": {},
     "output_type": "execute_result"
    }
   ],
   "source": [
    "e"
   ]
  },
  {
   "cell_type": "code",
   "execution_count": 19,
   "metadata": {},
   "outputs": [
    {
     "data": {
      "text/plain": [
       "{3: [4, 5], 'a': 44}"
      ]
     },
     "execution_count": 19,
     "metadata": {},
     "output_type": "execute_result"
    }
   ],
   "source": [
    "g['a']=44\n",
    "g"
   ]
  },
  {
   "cell_type": "code",
   "execution_count": 20,
   "metadata": {},
   "outputs": [
    {
     "data": {
      "text/plain": [
       "[3, 4, 5]"
      ]
     },
     "execution_count": 20,
     "metadata": {},
     "output_type": "execute_result"
    }
   ],
   "source": [
    "e3=e\n",
    "e3"
   ]
  },
  {
   "cell_type": "code",
   "execution_count": 24,
   "metadata": {},
   "outputs": [
    {
     "data": {
      "text/plain": [
       "[3, 4, 5, 60, 60, 60]"
      ]
     },
     "execution_count": 24,
     "metadata": {},
     "output_type": "execute_result"
    }
   ],
   "source": [
    "e3.append(60)\n",
    "e3\n"
   ]
  },
  {
   "cell_type": "code",
   "execution_count": null,
   "metadata": {},
   "outputs": [],
   "source": []
  },
  {
   "cell_type": "code",
   "execution_count": null,
   "metadata": {},
   "outputs": [],
   "source": []
  }
 ],
 "metadata": {
  "kernelspec": {
   "display_name": "Python 3",
   "language": "python",
   "name": "python3"
  },
  "language_info": {
   "codemirror_mode": {
    "name": "ipython",
    "version": 3
   },
   "file_extension": ".py",
   "mimetype": "text/x-python",
   "name": "python",
   "nbconvert_exporter": "python",
   "pygments_lexer": "ipython3",
   "version": "3.10.10"
  },
  "orig_nbformat": 4,
  "vscode": {
   "interpreter": {
    "hash": "7b1a18ea1fe56cffcfca5355b80dac88cedd60f00bcb9e14726972d0dc7ab6d3"
   }
  }
 },
 "nbformat": 4,
 "nbformat_minor": 2
}
